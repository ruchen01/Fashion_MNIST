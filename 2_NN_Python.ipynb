{
 "cells": [
  {
   "cell_type": "code",
   "execution_count": 3,
   "metadata": {
    "collapsed": true
   },
   "outputs": [],
   "source": [
    "import numpy as np\n",
    "import matplotlib.pyplot as plt\n",
    "%matplotlib inline\n",
    "import time\n",
    "import pandas as pd\n"
   ]
  },
  {
   "cell_type": "markdown",
   "metadata": {},
   "source": [
    "# 1 - Load Fashion MNIST by Pandas, exactly the same procedure as in Logistic Regression"
   ]
  },
  {
   "cell_type": "code",
   "execution_count": 4,
   "metadata": {},
   "outputs": [
    {
     "data": {
      "text/html": [
       "<div>\n",
       "<style>\n",
       "    .dataframe thead tr:only-child th {\n",
       "        text-align: right;\n",
       "    }\n",
       "\n",
       "    .dataframe thead th {\n",
       "        text-align: left;\n",
       "    }\n",
       "\n",
       "    .dataframe tbody tr th {\n",
       "        vertical-align: top;\n",
       "    }\n",
       "</style>\n",
       "<table border=\"1\" class=\"dataframe\">\n",
       "  <thead>\n",
       "    <tr style=\"text-align: right;\">\n",
       "      <th></th>\n",
       "      <th>label</th>\n",
       "      <th>pixel1</th>\n",
       "      <th>pixel2</th>\n",
       "      <th>pixel3</th>\n",
       "      <th>pixel4</th>\n",
       "      <th>pixel5</th>\n",
       "      <th>pixel6</th>\n",
       "      <th>pixel7</th>\n",
       "      <th>pixel8</th>\n",
       "      <th>pixel9</th>\n",
       "      <th>...</th>\n",
       "      <th>pixel775</th>\n",
       "      <th>pixel776</th>\n",
       "      <th>pixel777</th>\n",
       "      <th>pixel778</th>\n",
       "      <th>pixel779</th>\n",
       "      <th>pixel780</th>\n",
       "      <th>pixel781</th>\n",
       "      <th>pixel782</th>\n",
       "      <th>pixel783</th>\n",
       "      <th>pixel784</th>\n",
       "    </tr>\n",
       "  </thead>\n",
       "  <tbody>\n",
       "    <tr>\n",
       "      <th>0</th>\n",
       "      <td>2</td>\n",
       "      <td>0</td>\n",
       "      <td>0</td>\n",
       "      <td>0</td>\n",
       "      <td>0</td>\n",
       "      <td>0</td>\n",
       "      <td>0</td>\n",
       "      <td>0</td>\n",
       "      <td>0</td>\n",
       "      <td>0</td>\n",
       "      <td>...</td>\n",
       "      <td>0</td>\n",
       "      <td>0</td>\n",
       "      <td>0</td>\n",
       "      <td>0</td>\n",
       "      <td>0</td>\n",
       "      <td>0</td>\n",
       "      <td>0</td>\n",
       "      <td>0</td>\n",
       "      <td>0</td>\n",
       "      <td>0</td>\n",
       "    </tr>\n",
       "    <tr>\n",
       "      <th>1</th>\n",
       "      <td>9</td>\n",
       "      <td>0</td>\n",
       "      <td>0</td>\n",
       "      <td>0</td>\n",
       "      <td>0</td>\n",
       "      <td>0</td>\n",
       "      <td>0</td>\n",
       "      <td>0</td>\n",
       "      <td>0</td>\n",
       "      <td>0</td>\n",
       "      <td>...</td>\n",
       "      <td>0</td>\n",
       "      <td>0</td>\n",
       "      <td>0</td>\n",
       "      <td>0</td>\n",
       "      <td>0</td>\n",
       "      <td>0</td>\n",
       "      <td>0</td>\n",
       "      <td>0</td>\n",
       "      <td>0</td>\n",
       "      <td>0</td>\n",
       "    </tr>\n",
       "    <tr>\n",
       "      <th>2</th>\n",
       "      <td>6</td>\n",
       "      <td>0</td>\n",
       "      <td>0</td>\n",
       "      <td>0</td>\n",
       "      <td>0</td>\n",
       "      <td>0</td>\n",
       "      <td>0</td>\n",
       "      <td>0</td>\n",
       "      <td>5</td>\n",
       "      <td>0</td>\n",
       "      <td>...</td>\n",
       "      <td>0</td>\n",
       "      <td>0</td>\n",
       "      <td>0</td>\n",
       "      <td>30</td>\n",
       "      <td>43</td>\n",
       "      <td>0</td>\n",
       "      <td>0</td>\n",
       "      <td>0</td>\n",
       "      <td>0</td>\n",
       "      <td>0</td>\n",
       "    </tr>\n",
       "    <tr>\n",
       "      <th>3</th>\n",
       "      <td>0</td>\n",
       "      <td>0</td>\n",
       "      <td>0</td>\n",
       "      <td>0</td>\n",
       "      <td>1</td>\n",
       "      <td>2</td>\n",
       "      <td>0</td>\n",
       "      <td>0</td>\n",
       "      <td>0</td>\n",
       "      <td>0</td>\n",
       "      <td>...</td>\n",
       "      <td>3</td>\n",
       "      <td>0</td>\n",
       "      <td>0</td>\n",
       "      <td>0</td>\n",
       "      <td>0</td>\n",
       "      <td>1</td>\n",
       "      <td>0</td>\n",
       "      <td>0</td>\n",
       "      <td>0</td>\n",
       "      <td>0</td>\n",
       "    </tr>\n",
       "    <tr>\n",
       "      <th>4</th>\n",
       "      <td>3</td>\n",
       "      <td>0</td>\n",
       "      <td>0</td>\n",
       "      <td>0</td>\n",
       "      <td>0</td>\n",
       "      <td>0</td>\n",
       "      <td>0</td>\n",
       "      <td>0</td>\n",
       "      <td>0</td>\n",
       "      <td>0</td>\n",
       "      <td>...</td>\n",
       "      <td>0</td>\n",
       "      <td>0</td>\n",
       "      <td>0</td>\n",
       "      <td>0</td>\n",
       "      <td>0</td>\n",
       "      <td>0</td>\n",
       "      <td>0</td>\n",
       "      <td>0</td>\n",
       "      <td>0</td>\n",
       "      <td>0</td>\n",
       "    </tr>\n",
       "  </tbody>\n",
       "</table>\n",
       "<p>5 rows × 785 columns</p>\n",
       "</div>"
      ],
      "text/plain": [
       "   label  pixel1  pixel2  pixel3  pixel4  pixel5  pixel6  pixel7  pixel8  \\\n",
       "0      2       0       0       0       0       0       0       0       0   \n",
       "1      9       0       0       0       0       0       0       0       0   \n",
       "2      6       0       0       0       0       0       0       0       5   \n",
       "3      0       0       0       0       1       2       0       0       0   \n",
       "4      3       0       0       0       0       0       0       0       0   \n",
       "\n",
       "   pixel9    ...     pixel775  pixel776  pixel777  pixel778  pixel779  \\\n",
       "0       0    ...            0         0         0         0         0   \n",
       "1       0    ...            0         0         0         0         0   \n",
       "2       0    ...            0         0         0        30        43   \n",
       "3       0    ...            3         0         0         0         0   \n",
       "4       0    ...            0         0         0         0         0   \n",
       "\n",
       "   pixel780  pixel781  pixel782  pixel783  pixel784  \n",
       "0         0         0         0         0         0  \n",
       "1         0         0         0         0         0  \n",
       "2         0         0         0         0         0  \n",
       "3         1         0         0         0         0  \n",
       "4         0         0         0         0         0  \n",
       "\n",
       "[5 rows x 785 columns]"
      ]
     },
     "execution_count": 4,
     "metadata": {},
     "output_type": "execute_result"
    }
   ],
   "source": [
    "# you can download the datasets at Kaggle and change this to your fie location\n",
    "TRAIN_FILE = '../fashionmnist/fashion-mnist_train.csv'\n",
    "TEST_FILE = '../fashionmnist/fashion-mnist_test.csv'\n",
    "train_data = pd.read_csv(TRAIN_FILE)\n",
    "test_data = pd.read_csv(TEST_FILE)\n",
    "train_data.head()"
   ]
  },
  {
   "cell_type": "code",
   "execution_count": 6,
   "metadata": {},
   "outputs": [
    {
     "name": "stdout",
     "output_type": "stream",
     "text": [
      "pixel value max= 255\n",
      "total number of training examples = 60000 , number of pixels = 784\n",
      "X_train shape (784, 5000) y_train shape (1, 5000)\n",
      "number of training examples used: 5000\n",
      "X_test shape: (784, 10000) y_test shape: (1, 10000)\n"
     ]
    }
   ],
   "source": [
    "X_train_all = np.array(train_data.iloc[:, 1:])\n",
    "print('pixel value max=', np.max(X_train_all))\n",
    "X_train_all = X_train_all/ 255\n",
    "X_train_all = X_train_all.T\n",
    "m_train_all = X_train_all.shape[1]\n",
    "num_px = X_train_all.shape[0]\n",
    "num_class = 10\n",
    "y_train_all = np.array(train_data.iloc[:, 0], dtype = 'uint8').reshape(1,-1)\n",
    "print('total number of training examples =', m_train_all, ', number of pixels =', num_px)\n",
    "#To speed up calculation, only 5000 out of 60000 examples will be used as training set in batch \n",
    "#Although the original data are already random, still shuffle them for general purpose\n",
    "m_train = 5000\n",
    "np.random.seed( 3 )\n",
    "permutation = list(np.random.permutation(m_train_all))\n",
    "shuffled_X = X_train_all[:,permutation]\n",
    "shuffled_y = y_train_all[:,permutation]\n",
    "X_train = shuffled_X[:,0:m_train]\n",
    "y_train = shuffled_y[:,0:m_train]\n",
    "print('X_train shape', X_train.shape, 'y_train shape', y_train.shape)\n",
    "print('number of training examples used:', X_train.shape[1])\n",
    "X_test = (np.array(test_data.iloc[:, 1:])/255).T\n",
    "y_test = np.array(test_data.iloc[:, 0], dtype = 'uint8').reshape(1,-1)\n",
    "print('X_test shape:', X_test.shape, 'y_test shape:', y_test.shape)"
   ]
  },
  {
   "cell_type": "markdown",
   "metadata": {},
   "source": [
    "# 2 - Fully Connected Neural Networks "
   ]
  },
  {
   "cell_type": "code",
   "execution_count": 8,
   "metadata": {},
   "outputs": [],
   "source": [
    "layers_dims = [X_train.shape[0], 30,20, 10]\n",
    "#l=0 is always called 'init', just correspond to X\n",
    "# In this problem, L = 3, l=0 just X, l=1,2 Relu, l=3 softmax\n",
    "activations = ['init','Relu','Relu','softmax']"
   ]
  },
  {
   "cell_type": "markdown",
   "metadata": {},
   "source": [
    "### different initializations, use fixed random seed to get same result for batch "
   ]
  },
  {
   "cell_type": "code",
   "execution_count": 22,
   "metadata": {},
   "outputs": [],
   "source": [
    "def initialize_parameters_rand(layers_dims):    \n",
    "    np.random.seed(3)\n",
    "    paras = {}\n",
    "    L = len(layers_dims) - 1 # integer representing the number of layers\n",
    "\n",
    "    for l in range(1, L + 1):\n",
    "        paras['W' + str(l)] = (np.random.randn(layers_dims[l-1],layers_dims[l])*0.01).T\n",
    "        paras['b' + str(l)] = np.zeros((layers_dims[l],1))\n",
    "        \n",
    "    return paras\n",
    "\n",
    "def initialize_parameters_he(layers_dims):    \n",
    "    np.random.seed(3)\n",
    "    paras = {}\n",
    "    L = len(layers_dims) - 1 # integer representing the number of layers\n",
    "\n",
    "    for l in range(1, L + 1):\n",
    "        paras['W' + str(l)] = np.random.randn(layers_dims[l],layers_dims[l-1]) * np.sqrt(2/layers_dims[l-1])\n",
    "        paras['b' + str(l)] = np.zeros((layers_dims[l],1))\n",
    "        \n",
    "    return paras"
   ]
  },
  {
   "cell_type": "markdown",
   "metadata": {},
   "source": [
    "### Activation functions and derivatives"
   ]
  },
  {
   "cell_type": "code",
   "execution_count": 10,
   "metadata": {
    "collapsed": true
   },
   "outputs": [],
   "source": [
    "def soft_max(Z):\n",
    "    # substract Z by max(Z) to avoid numerical blowing up\n",
    "    # although usually each number of Z shouldn't be too big\n",
    "    Z -= np.max(Z,axis=0)\n",
    "    A = np.exp(Z)\n",
    "    norm_A = np.sum(A, axis = 0, keepdims = True)\n",
    "    softmax = A/norm_A\n",
    "    return softmax\n",
    "\n",
    "def Relu(Z):\n",
    "    res = np.maximum(0, Z)\n",
    "    return res\n",
    "\n",
    "def Relu_backward(Z):\n",
    "    Z[Z>0] = 1\n",
    "    Z[Z<=0] = 0\n",
    "    return Z"
   ]
  },
  {
   "cell_type": "markdown",
   "metadata": {},
   "source": [
    "### Forward propagation and cost functions"
   ]
  },
  {
   "cell_type": "code",
   "execution_count": 11,
   "metadata": {
    "collapsed": true
   },
   "outputs": [],
   "source": [
    "def linear_activation_forward(Wl, bl, Alminus1, activation):\n",
    "    Zl = np.dot(Wl, Alminus1) + bl\n",
    "    if activation == 'Relu':\n",
    "        Al = Relu(Zl)\n",
    "    elif activation == 'softmax':\n",
    "        Al = soft_max(Zl)     \n",
    "    cache = (Zl, Alminus1)\n",
    "    return Al, cache\n",
    "\n",
    "def forward_propagation(paras, X, activations):\n",
    "    L = len(paras)//2\n",
    "    #initialize at l=0, cache at l = 0 is never used, assigning values to keep index   \n",
    "    #store (Zl, Al-1) for each l, they're going to be used in backward propagation\n",
    "    caches = [(0,0)]\n",
    "    #A0 = X\n",
    "    Alminus1 = X\n",
    "    for l in range(1,L+1):\n",
    "        activation = activations[l]\n",
    "        Al, cache = linear_activation_forward(paras['W'+str(l)], paras['b'+str(l)], Alminus1, activation)\n",
    "        caches.append(cache)\n",
    "        #update A for next step\n",
    "        Alminus1 = Al\n",
    "    AL = Al\n",
    "    return AL, caches\n",
    "\n",
    "def regularization(paras, lambd, m):\n",
    "    L = len(paras)//2\n",
    "    reg = 0\n",
    "    for l in range(1,L+1):\n",
    "        Wl = paras['W' + str(l)]\n",
    "        reg += np.sum(Wl*Wl)\n",
    "    reg *= lambd/2/m \n",
    "    return reg\n",
    "                \n",
    "\n",
    "def compute_cost_softmax_reg(AL, y, paras, lambd):\n",
    "    m = y.shape[1]\n",
    "    L = len(paras)//2    \n",
    "    reg = regularization(paras, lambd, m)\n",
    "    cost = -1/m * np.sum(np.log(AL[y, range(m)]),axis = 1)\n",
    "    cost += reg\n",
    "    cost = np.squeeze(cost)\n",
    "    return cost"
   ]
  },
  {
   "cell_type": "markdown",
   "metadata": {},
   "source": [
    "### Backward propagation and gradient descent"
   ]
  },
  {
   "cell_type": "code",
   "execution_count": 12,
   "metadata": {
    "collapsed": true
   },
   "outputs": [],
   "source": [
    "def cost_one_layer_backward(y, AL, cache, para, activation, lambd):\n",
    "    WL = para\n",
    "    (ZL, ALminus1) = cache\n",
    "    m = y.shape[1]\n",
    "    if activation == 'softmax':\n",
    "        dZL = AL   \n",
    "        dZL[y, range(m)] -= 1    \n",
    "    \n",
    "    dWL = 1/m* np.dot(dZL, ALminus1.T)\n",
    "    dWL += lambd/m * WL    \n",
    "    dbL = 1/m * np.sum(dZL, axis=1, keepdims = True)\n",
    "     \n",
    "    return dZL, dWL, dbL\n",
    "\n",
    "\n",
    "def one_layer_backward(dZlplus1, cache, para, activation, lambd):\n",
    "    (Wlplus1, Wl) = para\n",
    "    (Zl, Alminus1) = cache\n",
    "    if activation == 'Relu':\n",
    "        dZl = np.dot(Wlplus1.T, dZlplus1) * Relu_backward(Zl)\n",
    "        \n",
    "    m = dZl.shape[1]        \n",
    "    dWl = 1/m* np.dot(dZl, Alminus1.T)\n",
    "    dWl += lambd/m * Wl    \n",
    "    dbl = 1/m * np.sum(dZl, axis=1, keepdims = True)\n",
    "     \n",
    "    return dZl, dWl, dbl\n",
    "\n",
    "def backward_propagation(y, AL, paras, caches, activations, lambd):\n",
    "    L = len(paras)//2\n",
    "    grads = {}\n",
    "    \n",
    "    for l in reversed(range(1, L+1)):\n",
    "        cache = caches[l]\n",
    "        activation = activations[l]\n",
    "        if l ==  L:\n",
    "            para = paras['W'+str(l)]\n",
    "            dZl, dWl, dbl = cost_one_layer_backward(y, AL, cache, para, activation, lambd)\n",
    "        else:\n",
    "            para = (paras['W'+str(l+1)],paras['W'+str(l)])\n",
    "            dZl, dWl, dbl = one_layer_backward(dZl, cache, para, activation, lambd)\n",
    "        \n",
    "        grads['dW'+str(l)] = dWl\n",
    "        grads['db'+str(l)] = dbl\n",
    "            \n",
    "    return grads\n",
    "\n",
    "def update_paras_with_gd(paras,grads, learning_rate):\n",
    "    L = len(paras)//2\n",
    "    new_paras = {}\n",
    "    for l in range(1,L+1):\n",
    "        Wl = paras['W'+str(l)]\n",
    "        bl = paras['b'+str(l)]\n",
    "        dWl = grads['dW'+str(l)]\n",
    "        dbl = grads['db'+str(l)]\n",
    "        Wl = Wl - learning_rate * dWl\n",
    "        bl = bl - learning_rate * dbl    \n",
    "        new_paras['W'+str(l)] = Wl\n",
    "        new_paras['b'+str(l)] = bl\n",
    "    return new_paras"
   ]
  },
  {
   "cell_type": "markdown",
   "metadata": {},
   "source": [
    "### Mini-batch, cost optimization and predict function"
   ]
  },
  {
   "cell_type": "code",
   "execution_count": 15,
   "metadata": {
    "collapsed": true
   },
   "outputs": [],
   "source": [
    "def create_mini_batches(X, y, mini_batch_size):\n",
    "    m = X.shape[1]\n",
    "    num_complete_minibatches = m//mini_batch_size\n",
    "    mini_batches = []\n",
    "    \n",
    "    permutation = list(np.random.permutation(m))\n",
    "    shuffled_X = X[:,permutation]\n",
    "    shuffled_y = y[:,permutation]\n",
    "    \n",
    "    for i in range(num_complete_minibatches):\n",
    "        mini_batch_X = shuffled_X[:,i*mini_batch_size:(i+1)*mini_batch_size]\n",
    "        mini_batch_y = shuffled_y[:,i*mini_batch_size:(i+1)*mini_batch_size]\n",
    "        mini_batches.append((mini_batch_X,mini_batch_y))\n",
    "    if m%mini_batch_size != 0:\n",
    "        mini_batch_X = shuffled_X[:,num_complete_minibatches*mini_batch_size:m]\n",
    "        mini_batch_y = shuffled_y[:,num_complete_minibatches*mini_batch_size:m]\n",
    "        mini_batches.append((mini_batch_X,mini_batch_y))\n",
    "    \n",
    "    return mini_batches\n",
    "\n",
    "def optimize_mini(paras, X, y, lambd, learning_rate):\n",
    "    AL, caches = forward_propagation(paras, X, activations)\n",
    "    cost = compute_cost_softmax_reg(AL, y, paras, lambd)\n",
    "    grads = backward_propagation(y, AL, paras, caches, activations, lambd)\n",
    "    paras = update_paras_with_gd(paras, grads, learning_rate)\n",
    "    return cost, paras\n",
    "\n",
    "\n",
    "\n",
    "def optimize(paras, X, y, lambd, num_iter, learning_rate):\n",
    "    costs = []\n",
    "    for i in range(num_iter):\n",
    "        AL, caches = forward_propagation(paras, X, activations)\n",
    "        cost = compute_cost_softmax_reg(AL, y, paras, lambd)\n",
    "        grads = backward_propagation(y, AL, paras, caches, activations, lambd)\n",
    "\n",
    "        paras = update_paras_with_gd(paras, grads, learning_rate)\n",
    "        \n",
    "        costs.append(cost)\n",
    "        \n",
    "        if i%(num_iter//10) == 0 :\n",
    "            print('iteration=', i, cost)\n",
    "    return costs, paras\n",
    "\n",
    "def predict_accuracy(paras, X, y,activations):\n",
    "    L = len(paras)//2\n",
    "    #A0 = X\n",
    "    Al = X\n",
    "    for l in range(1,L+1):\n",
    "        activation = activations[l]\n",
    "        Al, _ = linear_activation_forward(paras['W'+str(l)], paras['b'+str(l)], Al, activation)\n",
    "\n",
    "    AL = Al    \n",
    "    \n",
    "    predicted_class = np.argmax(AL, axis=0)\n",
    "    accuracy = np.mean(predicted_class == y)\n",
    "    return accuracy"
   ]
  },
  {
   "cell_type": "markdown",
   "metadata": {},
   "source": [
    "### Running the batch"
   ]
  },
  {
   "cell_type": "code",
   "execution_count": 16,
   "metadata": {},
   "outputs": [
    {
     "name": "stdout",
     "output_type": "stream",
     "text": [
      "learning rate = 5.0E-01\n",
      "iteration= 0 2.3025820324356596\n",
      "iteration= 1000 2.301256041322196\n",
      "iteration= 2000 1.7095556160951266\n",
      "iteration= 3000 1.8788997678185173\n",
      "iteration= 4000 1.4952546184785904\n",
      "iteration= 5000 1.62312683855158\n",
      "iteration= 6000 1.6385869654708247\n",
      "iteration= 7000 1.4690345950696033\n",
      "iteration= 8000 1.4861170584248182\n",
      "iteration= 9000 1.6233455267847479\n",
      "train accuracy: 0.335\n",
      "test accuracy: 0.303\n",
      "---------------------\n",
      "learning rate = 1.0E-02\n",
      "iteration= 0 2.3025820324356596\n",
      "iteration= 1000 2.301224171481915\n",
      "iteration= 2000 2.3003803394564435\n",
      "iteration= 3000 2.267966571641021\n",
      "iteration= 4000 1.300352821965776\n",
      "iteration= 5000 1.0111719488005293\n",
      "iteration= 6000 0.8875782418183077\n",
      "iteration= 7000 0.7801296632681978\n",
      "iteration= 8000 0.7333336886372656\n",
      "iteration= 9000 0.686067507971907\n",
      "train accuracy: 0.765\n",
      "test accuracy: 0.748\n",
      "---------------------\n"
     ]
    },
    {
     "data": {
      "image/png": "[encoded data removed]",
      "text/plain": [
       "<matplotlib.figure.Figure at 0x10e785668>"
      ]
     },
     "metadata": {},
     "output_type": "display_data"
    },
    {
     "name": "stdout",
     "output_type": "stream",
     "text": [
      "time elapsed 483.6900408267975\n"
     ]
    }
   ],
   "source": [
    "t= time.time()\n",
    "learning_rates = [5*1e-1,1e-2]\n",
    "lambd = 0\n",
    "for rate in learning_rates:\n",
    "    print('learning rate = %.1E' %rate)\n",
    "    paras = initialize_parameters_rand(layers_dims)\n",
    "    costs, paras = optimize(paras, X_train, y_train, lambd, num_iter = 10000, learning_rate = rate)\n",
    "    plt.plot(np.squeeze(costs), label = '%.1E' %rate)\n",
    "    \n",
    "    \n",
    "    accuracy = predict_accuracy(paras, X_train, y_train,activations)\n",
    "    print('train accuracy: %.3f' %accuracy)\n",
    "    accuracy = predict_accuracy(paras, X_test, y_test,activations)\n",
    "    print('test accuracy: %.3f' %accuracy)\n",
    "    print('---------------------')\n",
    "\n",
    "plt.ylabel('cost')\n",
    "plt.xlabel('number of iteration')\n",
    "plt.title(\"Cost function with different learning rates\" )\n",
    "legend = plt.legend(loc='upper center', shadow=True)\n",
    "axes = plt.gca()\n",
    "axes.set_ylim([0,3])\n",
    "plt.show()\n",
    "\n",
    "t= time.time() -t\n",
    "print('time elapsed', t)"
   ]
  },
  {
   "cell_type": "markdown",
   "metadata": {},
   "source": [
    "Learning rate = 0.01 is the optimal learning rate for training sample size = 5000 with batch gradient descent and random initialization.\n",
    "After 10,000 iterations, it achieves 74.8% test accuracy with hidden layers 30 and 20. Since the hidden layers unit and number of iteration are both small and we don't use all the training examples, we have poor test accuracy."
   ]
  },
  {
   "cell_type": "markdown",
   "metadata": {},
   "source": [
    "### Running the batch with He initialization"
   ]
  },
  {
   "cell_type": "code",
   "execution_count": 23,
   "metadata": {},
   "outputs": [
    {
     "name": "stdout",
     "output_type": "stream",
     "text": [
      "learning rate = 1.0E-02\n",
      "iteration= 0 2.379683305655539\n",
      "iteration= 1000 0.5576829480481441\n",
      "iteration= 2000 0.4579243808213617\n",
      "iteration= 3000 0.4040761995169302\n",
      "iteration= 4000 0.3650482038853537\n",
      "iteration= 5000 0.3339788622470677\n",
      "iteration= 6000 0.31511850800846236\n",
      "iteration= 7000 0.29363877850294556\n",
      "iteration= 8000 0.27428560145666364\n",
      "iteration= 9000 0.2552862076462797\n",
      "train accuracy: 0.923\n",
      "test accuracy: 0.834\n",
      "---------------------\n"
     ]
    },
    {
     "data": {
      "image/png": "[encoded data removed]",
      "text/plain": [
       "<matplotlib.figure.Figure at 0x10e6433c8>"
      ]
     },
     "metadata": {},
     "output_type": "display_data"
    },
    {
     "name": "stdout",
     "output_type": "stream",
     "text": [
      "time elapsed 265.27487421035767\n"
     ]
    }
   ],
   "source": [
    "t= time.time()\n",
    "learning_rates = [1e-2]\n",
    "lambd = 0\n",
    "for rate in learning_rates:\n",
    "    print('learning rate = %.1E' %rate)\n",
    "    paras = initialize_parameters_he(layers_dims)\n",
    "    costs, paras = optimize(paras, X_train, y_train, lambd, num_iter = 10000, learning_rate = rate)\n",
    "    plt.plot(np.squeeze(costs), label = '%.1E' %rate)\n",
    "    \n",
    "    \n",
    "    accuracy = predict_accuracy(paras, X_train, y_train,activations)\n",
    "    print('train accuracy: %.3f' %accuracy)\n",
    "    accuracy = predict_accuracy(paras, X_test, y_test,activations)\n",
    "    print('test accuracy: %.3f' %accuracy)\n",
    "    print('---------------------')\n",
    "\n",
    "plt.ylabel('cost')\n",
    "plt.xlabel('number of iteration')\n",
    "plt.title(\"Cost function with different learning rates\" )\n",
    "legend = plt.legend(loc='upper center', shadow=True)\n",
    "axes = plt.gca()\n",
    "axes.set_ylim([0,3])\n",
    "plt.show()\n",
    "\n",
    "t= time.time() -t\n",
    "print('time elapsed', t)"
   ]
  },
  {
   "cell_type": "markdown",
   "metadata": {},
   "source": [
    "Initilization is important! After 10,000 iterations, it achieves 83.4% test accuracy with hidden layers 30 and 20 with He initilization!  Since the hidden layers unit and number of iteration are both small and we don't use all the training examples, we still have poor test accuracy."
   ]
  },
  {
   "cell_type": "markdown",
   "metadata": {},
   "source": [
    "### Running the mini-batch, use all the training examples"
   ]
  },
  {
   "cell_type": "code",
   "execution_count": 20,
   "metadata": {},
   "outputs": [
    {
     "name": "stdout",
     "output_type": "stream",
     "text": [
      "learning rate = 5.0E-03\n",
      "epoch= 0 2.3025695800512165\n",
      "epoch= 50 0.7703104740324735\n",
      "epoch= 100 0.4518911452190204\n",
      "epoch= 150 0.5465617107708084\n",
      "epoch= 200 0.36046862257168344\n",
      "epoch= 250 0.37087577811438033\n",
      "epoch= 300 0.3018596780808903\n",
      "epoch= 350 0.2728634711027568\n",
      "epoch= 400 0.24284657645473914\n",
      "epoch= 450 0.3102258488902167\n",
      "test accuracy: 0.875\n",
      "---------------------\n"
     ]
    },
    {
     "data": {
      "image/png": "[encoded data removed]",
      "text/plain": [
       "<matplotlib.figure.Figure at 0x10e319080>"
      ]
     },
     "metadata": {},
     "output_type": "display_data"
    },
    {
     "name": "stdout",
     "output_type": "stream",
     "text": [
      "time elapsed 1139.6783740520477\n"
     ]
    }
   ],
   "source": [
    "t= time.time()\n",
    "learning_rates = [5*1e-3]\n",
    "lambd = 0\n",
    "num_epoch = 500\n",
    "for rate in learning_rates:\n",
    "    print('learning rate = %.1E' %rate)\n",
    "    costs = []\n",
    "    paras = initialize_parameters_rand(layers_dims)\n",
    "    for i in range(num_epoch):\n",
    "        mini_batches = create_mini_batches(X_train_all, y_train_all, mini_batch_size=200)   \n",
    "        for mini_batch in mini_batches:\n",
    "            (X_mini_batch, y_mini_batch) = mini_batch    \n",
    "            cost, paras = optimize_mini(paras, X_mini_batch, y_mini_batch, lambd, learning_rate = rate)\n",
    "            costs.append(cost)\n",
    "        if i%(num_epoch//10) == 0 :\n",
    "            print('epoch=', i, cost)\n",
    "            \n",
    "    plt.plot(np.squeeze(costs), label = '%.1E' %rate)\n",
    "    accuracy = predict_accuracy(paras, X_test, y_test,activations)\n",
    "    print('test accuracy: %.3f' %accuracy)\n",
    "    print('---------------------')\n",
    "\n",
    "plt.ylabel('cost')\n",
    "plt.xlabel('number of iteration')\n",
    "plt.title(\"Cost function with different learning rates\" )\n",
    "legend = plt.legend(loc='upper center', shadow=True)\n",
    "axes = plt.gca()\n",
    "axes.set_ylim([0,3])\n",
    "plt.show()\n",
    "\n",
    "t= time.time() -t\n",
    "print('time elapsed', t)\n"
   ]
  },
  {
   "cell_type": "markdown",
   "metadata": {
    "collapsed": true
   },
   "source": [
    "It achieves 87.5% test accuaracy with random initialization and mini-batch! We can clearly see oscillatory behavior due to the mini-batch gradient descent method. If we use Adam optimizor the curve will drop faster and smoother."
   ]
  },
  {
   "cell_type": "code",
   "execution_count": 24,
   "metadata": {},
   "outputs": [
    {
     "name": "stdout",
     "output_type": "stream",
     "text": [
      "learning rate = 5.0E-03\n",
      "epoch= 0 1.2036675288089764\n",
      "epoch= 25 0.44011523988571216\n",
      "epoch= 50 0.3779756851558297\n",
      "epoch= 75 0.3839833562659385\n",
      "epoch= 100 0.3014332293872252\n",
      "epoch= 125 0.4518704290686937\n",
      "epoch= 150 0.35901344580821387\n",
      "epoch= 175 0.2858639643356746\n",
      "epoch= 200 0.3060157219314626\n",
      "epoch= 225 0.3735509218166291\n",
      "test accuracy: 0.873\n",
      "---------------------\n"
     ]
    },
    {
     "data": {
      "image/png": "[encoded data removed]",
      "text/plain": [
       "<matplotlib.figure.Figure at 0x10e7699e8>"
      ]
     },
     "metadata": {},
     "output_type": "display_data"
    },
    {
     "name": "stdout",
     "output_type": "stream",
     "text": [
      "time elapsed 547.2945427894592\n"
     ]
    }
   ],
   "source": [
    "#He initilization\n",
    "t= time.time()\n",
    "learning_rates = [5*1e-3]\n",
    "lambd = 0\n",
    "num_epoch = 250\n",
    "for rate in learning_rates:\n",
    "    print('learning rate = %.1E' %rate)\n",
    "    costs = []\n",
    "    paras = initialize_parameters_he(layers_dims)\n",
    "    for i in range(num_epoch):\n",
    "        mini_batches = create_mini_batches(X_train_all, y_train_all, mini_batch_size=200)   \n",
    "        for mini_batch in mini_batches:\n",
    "            (X_mini_batch, y_mini_batch) = mini_batch    \n",
    "            cost, paras = optimize_mini(paras, X_mini_batch, y_mini_batch, lambd, learning_rate = rate)\n",
    "            costs.append(cost)\n",
    "        if i%(num_epoch//10) == 0 :\n",
    "            print('epoch=', i, cost)\n",
    "            \n",
    "    plt.plot(np.squeeze(costs), label = '%.1E' %rate)\n",
    "    accuracy = predict_accuracy(paras, X_test, y_test,activations)\n",
    "    print('test accuracy: %.3f' %accuracy)\n",
    "    print('---------------------')\n",
    "\n",
    "plt.ylabel('cost')\n",
    "plt.xlabel('number of iteration')\n",
    "plt.title(\"Cost function with different learning rates\" )\n",
    "legend = plt.legend(loc='upper center', shadow=True)\n",
    "axes = plt.gca()\n",
    "axes.set_ylim([0,3])\n",
    "plt.show()\n",
    "\n",
    "t= time.time() -t\n",
    "print('time elapsed', t)"
   ]
  },
  {
   "cell_type": "markdown",
   "metadata": {},
   "source": [
    "Initilization is important! Here we downsize the total number of epoch to 250 comparing to random initialization, it achieves 87.3% test accuracy with hidden layers 30 and 20 with He initilization and mini-batch! The total number of epoch can probably even be smaller. One can further improve the accuracy by increasing the hidden layers unit and use Adam."
   ]
  },
  {
   "cell_type": "code",
   "execution_count": null,
   "metadata": {
    "collapsed": true
   },
   "outputs": [],
   "source": []
  }
 ],
 "metadata": {
  "kernelspec": {
   "display_name": "Python 3",
   "language": "python",
   "name": "python3"
  },
  "language_info": {
   "codemirror_mode": {
    "name": "ipython",
    "version": 3
   },
   "file_extension": ".py",
   "mimetype": "text/x-python",
   "name": "python",
   "nbconvert_exporter": "python",
   "pygments_lexer": "ipython3",
   "version": "3.6.1"
  }
 },
 "nbformat": 4,
 "nbformat_minor": 2
}
