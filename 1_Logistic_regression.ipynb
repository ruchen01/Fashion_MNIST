{
 "cells": [
  {
   "cell_type": "code",
   "execution_count": 1,
   "metadata": {
    "collapsed": true
   },
   "outputs": [],
   "source": [
    "import numpy as np\n",
    "import matplotlib.pyplot as plt\n",
    "import pandas as pd\n",
    "from sklearn import linear_model\n",
    "import time\n",
    "%matplotlib inline"
   ]
  },
  {
   "cell_type": "markdown",
   "metadata": {},
   "source": [
    "# 1 - Load Fashion MNIST by Pandas"
   ]
  },
  {
   "cell_type": "code",
   "execution_count": 2,
   "metadata": {},
   "outputs": [
    {
     "data": {
      "text/html": [
       "<div>\n",
       "<style>\n",
       "    .dataframe thead tr:only-child th {\n",
       "        text-align: right;\n",
       "    }\n",
       "\n",
       "    .dataframe thead th {\n",
       "        text-align: left;\n",
       "    }\n",
       "\n",
       "    .dataframe tbody tr th {\n",
       "        vertical-align: top;\n",
       "    }\n",
       "</style>\n",
       "<table border=\"1\" class=\"dataframe\">\n",
       "  <thead>\n",
       "    <tr style=\"text-align: right;\">\n",
       "      <th></th>\n",
       "      <th>label</th>\n",
       "      <th>pixel1</th>\n",
       "      <th>pixel2</th>\n",
       "      <th>pixel3</th>\n",
       "      <th>pixel4</th>\n",
       "      <th>pixel5</th>\n",
       "      <th>pixel6</th>\n",
       "      <th>pixel7</th>\n",
       "      <th>pixel8</th>\n",
       "      <th>pixel9</th>\n",
       "      <th>...</th>\n",
       "      <th>pixel775</th>\n",
       "      <th>pixel776</th>\n",
       "      <th>pixel777</th>\n",
       "      <th>pixel778</th>\n",
       "      <th>pixel779</th>\n",
       "      <th>pixel780</th>\n",
       "      <th>pixel781</th>\n",
       "      <th>pixel782</th>\n",
       "      <th>pixel783</th>\n",
       "      <th>pixel784</th>\n",
       "    </tr>\n",
       "  </thead>\n",
       "  <tbody>\n",
       "    <tr>\n",
       "      <th>0</th>\n",
       "      <td>2</td>\n",
       "      <td>0</td>\n",
       "      <td>0</td>\n",
       "      <td>0</td>\n",
       "      <td>0</td>\n",
       "      <td>0</td>\n",
       "      <td>0</td>\n",
       "      <td>0</td>\n",
       "      <td>0</td>\n",
       "      <td>0</td>\n",
       "      <td>...</td>\n",
       "      <td>0</td>\n",
       "      <td>0</td>\n",
       "      <td>0</td>\n",
       "      <td>0</td>\n",
       "      <td>0</td>\n",
       "      <td>0</td>\n",
       "      <td>0</td>\n",
       "      <td>0</td>\n",
       "      <td>0</td>\n",
       "      <td>0</td>\n",
       "    </tr>\n",
       "    <tr>\n",
       "      <th>1</th>\n",
       "      <td>9</td>\n",
       "      <td>0</td>\n",
       "      <td>0</td>\n",
       "      <td>0</td>\n",
       "      <td>0</td>\n",
       "      <td>0</td>\n",
       "      <td>0</td>\n",
       "      <td>0</td>\n",
       "      <td>0</td>\n",
       "      <td>0</td>\n",
       "      <td>...</td>\n",
       "      <td>0</td>\n",
       "      <td>0</td>\n",
       "      <td>0</td>\n",
       "      <td>0</td>\n",
       "      <td>0</td>\n",
       "      <td>0</td>\n",
       "      <td>0</td>\n",
       "      <td>0</td>\n",
       "      <td>0</td>\n",
       "      <td>0</td>\n",
       "    </tr>\n",
       "    <tr>\n",
       "      <th>2</th>\n",
       "      <td>6</td>\n",
       "      <td>0</td>\n",
       "      <td>0</td>\n",
       "      <td>0</td>\n",
       "      <td>0</td>\n",
       "      <td>0</td>\n",
       "      <td>0</td>\n",
       "      <td>0</td>\n",
       "      <td>5</td>\n",
       "      <td>0</td>\n",
       "      <td>...</td>\n",
       "      <td>0</td>\n",
       "      <td>0</td>\n",
       "      <td>0</td>\n",
       "      <td>30</td>\n",
       "      <td>43</td>\n",
       "      <td>0</td>\n",
       "      <td>0</td>\n",
       "      <td>0</td>\n",
       "      <td>0</td>\n",
       "      <td>0</td>\n",
       "    </tr>\n",
       "    <tr>\n",
       "      <th>3</th>\n",
       "      <td>0</td>\n",
       "      <td>0</td>\n",
       "      <td>0</td>\n",
       "      <td>0</td>\n",
       "      <td>1</td>\n",
       "      <td>2</td>\n",
       "      <td>0</td>\n",
       "      <td>0</td>\n",
       "      <td>0</td>\n",
       "      <td>0</td>\n",
       "      <td>...</td>\n",
       "      <td>3</td>\n",
       "      <td>0</td>\n",
       "      <td>0</td>\n",
       "      <td>0</td>\n",
       "      <td>0</td>\n",
       "      <td>1</td>\n",
       "      <td>0</td>\n",
       "      <td>0</td>\n",
       "      <td>0</td>\n",
       "      <td>0</td>\n",
       "    </tr>\n",
       "    <tr>\n",
       "      <th>4</th>\n",
       "      <td>3</td>\n",
       "      <td>0</td>\n",
       "      <td>0</td>\n",
       "      <td>0</td>\n",
       "      <td>0</td>\n",
       "      <td>0</td>\n",
       "      <td>0</td>\n",
       "      <td>0</td>\n",
       "      <td>0</td>\n",
       "      <td>0</td>\n",
       "      <td>...</td>\n",
       "      <td>0</td>\n",
       "      <td>0</td>\n",
       "      <td>0</td>\n",
       "      <td>0</td>\n",
       "      <td>0</td>\n",
       "      <td>0</td>\n",
       "      <td>0</td>\n",
       "      <td>0</td>\n",
       "      <td>0</td>\n",
       "      <td>0</td>\n",
       "    </tr>\n",
       "  </tbody>\n",
       "</table>\n",
       "<p>5 rows × 785 columns</p>\n",
       "</div>"
      ],
      "text/plain": [
       "   label  pixel1  pixel2  pixel3  pixel4  pixel5  pixel6  pixel7  pixel8  \\\n",
       "0      2       0       0       0       0       0       0       0       0   \n",
       "1      9       0       0       0       0       0       0       0       0   \n",
       "2      6       0       0       0       0       0       0       0       5   \n",
       "3      0       0       0       0       1       2       0       0       0   \n",
       "4      3       0       0       0       0       0       0       0       0   \n",
       "\n",
       "   pixel9    ...     pixel775  pixel776  pixel777  pixel778  pixel779  \\\n",
       "0       0    ...            0         0         0         0         0   \n",
       "1       0    ...            0         0         0         0         0   \n",
       "2       0    ...            0         0         0        30        43   \n",
       "3       0    ...            3         0         0         0         0   \n",
       "4       0    ...            0         0         0         0         0   \n",
       "\n",
       "   pixel780  pixel781  pixel782  pixel783  pixel784  \n",
       "0         0         0         0         0         0  \n",
       "1         0         0         0         0         0  \n",
       "2         0         0         0         0         0  \n",
       "3         1         0         0         0         0  \n",
       "4         0         0         0         0         0  \n",
       "\n",
       "[5 rows x 785 columns]"
      ]
     },
     "execution_count": 2,
     "metadata": {},
     "output_type": "execute_result"
    }
   ],
   "source": [
    "TRAIN_FILE = '../fashionmnist/fashion-mnist_train.csv'\n",
    "TEST_FILE = '../fashionmnist/fashion-mnist_test.csv'\n",
    "train_data = pd.read_csv(TRAIN_FILE)\n",
    "test_data = pd.read_csv(TEST_FILE)\n",
    "train_data.head()"
   ]
  },
  {
   "cell_type": "code",
   "execution_count": 3,
   "metadata": {},
   "outputs": [
    {
     "name": "stdout",
     "output_type": "stream",
     "text": [
      "pixel value max= 255\n",
      "total number of training examples = 60000 , number of pixels = 784\n"
     ]
    }
   ],
   "source": [
    "X_train_all = np.array(train_data.iloc[:, 1:])\n",
    "print('pixel value max=', np.max(X_train_all))\n",
    "X_train_all = X_train_all/ 255\n",
    "m_train_all = X_train_all.shape[0]\n",
    "num_px = X_train_all.shape[1]\n",
    "num_class = 10\n",
    "y_train_all = np.array(train_data.iloc[:, 0], dtype = 'uint8').reshape(-1,1)\n",
    "print('total number of training examples =', m_train_all, ', number of pixels =', num_px)"
   ]
  },
  {
   "cell_type": "code",
   "execution_count": 4,
   "metadata": {},
   "outputs": [
    {
     "name": "stdout",
     "output_type": "stream",
     "text": [
      "X_train shape (784, 5000) y_train shape (1, 5000)\n",
      "number of training examples used: 5000\n"
     ]
    }
   ],
   "source": [
    "#To speed up calculation, only 5000 out of 60000 examples will be used as training set\n",
    "#Although the original data are already random, still shuffle them for general purpose\n",
    "m_train = 5000\n",
    "permutation = list(np.random.permutation(m_train_all))\n",
    "shuffled_X = X_train_all[permutation, :]\n",
    "shuffled_y = y_train_all[permutation,:]\n",
    "X_train = shuffled_X[0:m_train,:].T\n",
    "y_train = shuffled_y[0:m_train,:].T\n",
    "print('X_train shape', X_train.shape, 'y_train shape', y_train.shape)\n",
    "print('number of training examples used:', X_train.shape[1])"
   ]
  },
  {
   "cell_type": "code",
   "execution_count": 6,
   "metadata": {},
   "outputs": [
    {
     "name": "stdout",
     "output_type": "stream",
     "text": [
      "X_test shape: (784, 10000) y_test shape: (1, 10000)\n"
     ]
    }
   ],
   "source": [
    "X_test = np.array(test_data.iloc[:, 1:])\n",
    "X_test = X_test/255\n",
    "y_test = np.array(test_data.iloc[:, 0], dtype = 'uint8').reshape(-1,1)\n",
    "X_test = X_test.T\n",
    "y_test = y_test.T\n",
    "print('X_test shape:', X_test.shape, 'y_test shape:', y_test.shape)"
   ]
  },
  {
   "cell_type": "markdown",
   "metadata": {},
   "source": [
    "# 2 - Logistic regression"
   ]
  },
  {
   "cell_type": "code",
   "execution_count": 7,
   "metadata": {
    "collapsed": true
   },
   "outputs": [],
   "source": [
    "def initialization_zero(dim, num_class):\n",
    "#OK to initialize W to be a zero matrix in logistic regression\n",
    "    W = np.zeros((num_class,dim))\n",
    "    b = np.zeros((num_class,1))\n",
    "    return W, b\n",
    "\n",
    "def soft_max(Z):\n",
    "    # substract Z by max(Z) to avoid numerical blowing up\n",
    "    # although usually each number of Z shouldn't be too big\n",
    "    Z -= np.max(Z,axis=0)\n",
    "    A = np.exp(Z)\n",
    "    norm_A = np.sum(A, axis = 0, keepdims = True)\n",
    "    softmax = A/norm_A\n",
    "    return softmax\n",
    "\n",
    "def forward_propagation(W, b, lambd, X, y):\n",
    "    m = X.shape[1]\n",
    "    Z = np.dot(W, X) + b\n",
    "    P = soft_max(Z)\n",
    "    reg = lambd /2/m * np.sum(W*W)\n",
    "    cost = -1/m * np.sum(np.log(P[y, range(m)]),axis = 1)\n",
    "    cost += reg\n",
    "    cost = np.squeeze(cost)\n",
    "    return cost, P\n",
    "\n",
    "def backward_propagation(X, y, lambd, P):\n",
    "    m = X.shape[1]\n",
    "    dZ = P \n",
    "    dZ[y, range(m)] -= 1\n",
    "    dW = 1/m* np.dot(dZ, X.T)\n",
    "    dW += lambd/m * W\n",
    "    db = 1/m * np.sum(dZ, axis=1, keepdims = True)\n",
    "    return dW,db\n",
    "\n",
    "def optimize(W, b, X, y, lambd, num_iter, learning_rate):\n",
    "    costs = []\n",
    "    for i in range(num_iter):\n",
    "        cost, P = forward_propagation(W, b, lambd, X, y)\n",
    "        dW, db = backward_propagation(X, y, lambd, P)\n",
    "        W = W - learning_rate * dW\n",
    "        b = b - learning_rate * db\n",
    "        costs.append(cost)\n",
    "    return costs, W, b\n",
    "\n",
    "def predict_accuracy(W, b, X, y):\n",
    "    Z = np.dot(W, X) + b\n",
    "    predicted_class = np.argmax(Z, axis=0)\n",
    "    accuracy = np.mean(predicted_class == y)\n",
    "    return accuracy"
   ]
  },
  {
   "cell_type": "code",
   "execution_count": 8,
   "metadata": {},
   "outputs": [
    {
     "name": "stdout",
     "output_type": "stream",
     "text": [
      "learning rate = 1.0000\n",
      "train accuracy: 0.8010\n",
      "test accuracy: 0.7596\n",
      "elapsed time =  4.334654092788696\n",
      "---------------------\n",
      "learning rate = 0.1000\n",
      "train accuracy: 0.8278\n",
      "test accuracy: 0.8092\n",
      "elapsed time =  3.5898818969726562\n",
      "---------------------\n",
      "learning rate = 0.0100\n",
      "train accuracy: 0.7164\n",
      "test accuracy: 0.7014\n",
      "elapsed time =  3.5552358627319336\n",
      "---------------------\n"
     ]
    },
    {
     "data": {
      "image/png": "[encoded data removed]",
      "text/plain": [
       "<matplotlib.figure.Figure at 0x11ccf16d8>"
      ]
     },
     "metadata": {},
     "output_type": "display_data"
    }
   ],
   "source": [
    "learning_rates = [1, 1e-1, 1e-2]\n",
    "lambd = 0.01\n",
    "for rate in learning_rates:\n",
    "    t = time.time()\n",
    "    W, b = initialization_zero(num_px, num_class)\n",
    "    costs, W, b = optimize(W,b, X_train, y_train, lambd, num_iter = 300, learning_rate = rate)\n",
    "    plt.plot(np.squeeze(costs), label = '%.1E' %rate)\n",
    "\n",
    "    print('learning rate = %.4f' %rate)\n",
    "    accuracy = predict_accuracy(W, b, X_train, y_train)\n",
    "    print('train accuracy: %.4f' %accuracy)\n",
    "    accuracy = predict_accuracy(W, b, X_test, y_test)\n",
    "    print('test accuracy: %.4f' %accuracy)\n",
    "    \n",
    "    t = time.time()-t\n",
    "    print('elapsed time = ', t)\n",
    "    print('---------------------')\n",
    "\n",
    "\n",
    "plt.ylabel('cost')\n",
    "plt.xlabel('number of iteration')\n",
    "plt.title(\"Cost function with different learning rates, regularization = %.4f\" %lambd )\n",
    "legend = plt.legend(loc='upper center', shadow=True)\n",
    "axes = plt.gca()\n",
    "axes.set_ylim([0,3])\n",
    "plt.show()"
   ]
  },
  {
   "cell_type": "markdown",
   "metadata": {},
   "source": [
    "# 3 - Benchmark with sklearn build-in library"
   ]
  },
  {
   "cell_type": "code",
   "execution_count": 9,
   "metadata": {},
   "outputs": [
    {
     "name": "stdout",
     "output_type": "stream",
     "text": [
      "sklearn logistic regression train accurary =  0.9666\n",
      "sklearn logistic regression test accurary =  0.8001\n",
      "elapsed time =  6.102184295654297\n"
     ]
    }
   ],
   "source": [
    "t = time.time()\n",
    "clf = linear_model.LogisticRegression(C=1e2, solver = 'lbfgs')\n",
    "clf.fit(X_train.T, np.ravel(y_train))\n",
    "score_train = clf.score(X_train.T, np.ravel(y_train))\n",
    "score_test = clf.score(X_test.T, np.ravel(y_test))\n",
    "t = time.time()-t\n",
    "print('sklearn logistic regression train accurary = ', score_train)\n",
    "print('sklearn logistic regression test accurary = ', score_test)\n",
    "print('elapsed time = ', t)"
   ]
  },
  {
   "cell_type": "markdown",
   "metadata": {
    "collapsed": true
   },
   "source": [
    "## Comparing code with sklearn build-in logistic regression: learning rate = 0.1 gives better test accuracy 79.5% and timing! Looks great!"
   ]
  },
  {
   "cell_type": "code",
   "execution_count": null,
   "metadata": {
    "collapsed": true
   },
   "outputs": [],
   "source": []
  }
 ],
 "metadata": {
  "kernelspec": {
   "display_name": "Python 3",
   "language": "python",
   "name": "python3"
  },
  "language_info": {
   "codemirror_mode": {
    "name": "ipython",
    "version": 3
   },
   "file_extension": ".py",
   "mimetype": "text/x-python",
   "name": "python",
   "nbconvert_exporter": "python",
   "pygments_lexer": "ipython3",
   "version": "3.6.1"
  }
 },
 "nbformat": 4,
 "nbformat_minor": 2
}
